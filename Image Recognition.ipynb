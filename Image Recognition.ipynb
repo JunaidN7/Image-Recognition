{
 "cells": [
  {
   "cell_type": "markdown",
   "metadata": {},
   "source": [
    "<h1 align='center' style=\"color: blue;\">Image Recognition</h1>"
   ]
  },
  {
   "cell_type": "markdown",
   "metadata": {},
   "source": [
    "For this project, I worked with the well-known Fashion MNIST dataset. This dataset comprises small images of various fashion items. The primary goal was to develop a series of supervised learning models capable of predicting the category of a fashion item based on its image. I explored and implemented a diverse range of models to achieve this objective."
   ]
  },
  {
   "cell_type": "markdown",
   "metadata": {},
   "source": [
    "Install `tensorflow V2` package"
   ]
  },
  {
   "cell_type": "code",
   "execution_count": 1,
   "metadata": {},
   "outputs": [],
   "source": [
    "# !pip install --upgrade tensorflow"
   ]
  },
  {
   "cell_type": "markdown",
   "metadata": {},
   "source": [
    "Check the version of the package."
   ]
  },
  {
   "cell_type": "code",
   "execution_count": 102,
   "metadata": {},
   "outputs": [
    {
     "data": {
      "text/plain": [
       "'2.5.1'"
      ]
     },
     "execution_count": 102,
     "metadata": {},
     "output_type": "execute_result"
    }
   ],
   "source": [
    "import tensorflow as tf\n",
    "tf.__version__"
   ]
  },
  {
   "cell_type": "markdown",
   "metadata": {},
   "source": [
    "The next step entails loading the dataset."
   ]
  },
  {
   "cell_type": "code",
   "execution_count": 2,
   "metadata": {},
   "outputs": [],
   "source": [
    "from tensorflow import keras\n",
    "fashion_mnist = keras.datasets.fashion_mnist\n",
    "(X_train, y_train), (X_test, y_test) = fashion_mnist.load_data()"
   ]
  },
  {
   "cell_type": "markdown",
   "metadata": {},
   "source": [
    "As evident in the preceding code, the dataset has been divided into training and testing sets. Let's now inspect the contents of the X_train dataset."
   ]
  },
  {
   "cell_type": "code",
   "execution_count": 3,
   "metadata": {},
   "outputs": [
    {
     "data": {
      "text/plain": [
       "(60000, 28, 28)"
      ]
     },
     "execution_count": 3,
     "metadata": {},
     "output_type": "execute_result"
    }
   ],
   "source": [
    "X_train.shape"
   ]
  },
  {
   "cell_type": "markdown",
   "metadata": {},
   "source": [
    "As it is clear, the train dataset (`X_train`) contains 60,000 images of size 28 x 28. We can visualize one of the images using the following code:"
   ]
  },
  {
   "cell_type": "code",
   "execution_count": 4,
   "metadata": {},
   "outputs": [
    {
     "data": {
      "image/png": "[encoded data removed]",
      "text/plain": [
       "<Figure size 640x480 with 1 Axes>"
      ]
     },
     "metadata": {},
     "output_type": "display_data"
    }
   ],
   "source": [
    "import matplotlib as mpl\n",
    "import matplotlib.pyplot as plt\n",
    "%matplotlib inline\n",
    "\n",
    "sample_image = X_train[10]\n",
    "plt.imshow(sample_image, cmap='binary')\n",
    "plt.axis('off')\n",
    "plt.show()"
   ]
  },
  {
   "cell_type": "markdown",
   "metadata": {},
   "source": [
    "The `y_train` also includes values between 0 and 9. Each represents a particular category. For example, we can check the value of `y_train` for the above image."
   ]
  },
  {
   "cell_type": "code",
   "execution_count": 5,
   "metadata": {},
   "outputs": [
    {
     "data": {
      "text/plain": [
       "0"
      ]
     },
     "execution_count": 5,
     "metadata": {},
     "output_type": "execute_result"
    }
   ],
   "source": [
    "y_train[10]"
   ]
  },
  {
   "cell_type": "markdown",
   "metadata": {},
   "source": [
    "The above code shows that the image belongs to category 0. To get the associated label with each category, you can use the following code:"
   ]
  },
  {
   "cell_type": "code",
   "execution_count": 7,
   "metadata": {},
   "outputs": [
    {
     "name": "stdout",
     "output_type": "stream",
     "text": [
      "T-shirt\n"
     ]
    }
   ],
   "source": [
    "class_names = ['T-shirt','Trouser','Pullover','Dress','Coat','Sandal','Shirt','Sneaker','Bag','Ankle boot']\n",
    "print(class_names[y_train[10]])"
   ]
  },
  {
   "cell_type": "markdown",
   "metadata": {},
   "source": [
    "<ul>\n",
    "        <li>Utilized the training set to train a variety of supervised learning models and evaluated their performance using the test set.</li>\n",
    "        <li>Employed different metrics for model evaluation, including accuracy, precision, AUC, and more.</li>\n",
    "        <li>Interpreted the metrics for each model to gain insights into their performance and strengths/ weaknesses.</li>\n",
    "        <li>Utilized cross-validation methods to fine-tune hyperparameters, enhancing model performance.</li>\n",
    "        <li> Compared the performance of different models.</li>\n",
    "        <li> Identified and specified the model that outperformed the others, highlighting the best-performing model.\n",
    "</ul>\n"
   ]
  },
  {
   "cell_type": "markdown",
   "metadata": {},
   "source": [
    "We're dealing with photographs that are 28x28 in this data set; let's first examine the type of data we have in terms of shape and values."
   ]
  },
  {
   "cell_type": "code",
   "execution_count": 139,
   "metadata": {},
   "outputs": [
    {
     "name": "stdout",
     "output_type": "stream",
     "text": [
      "Shape of y_train is  (60000,)\n",
      "Shape of X_train is  (60000, 28, 28)\n",
      "Shape of X_test is  (10000, 28, 28)\n",
      "Shape of y_test is  (10000,)\n"
     ]
    }
   ],
   "source": [
    "print(\"Shape of y_train is \",y_train.shape)\n",
    "print(\"Shape of X_train is \",X_train.shape)\n",
    "print(\"Shape of X_test is \",X_test.shape)\n",
    "print(\"Shape of y_test is \",y_test.shape)"
   ]
  },
  {
   "cell_type": "code",
   "execution_count": 110,
   "metadata": {},
   "outputs": [
    {
     "data": {
      "text/plain": [
       "array([  0,   1,   2,   3,   4,   5,   6,   7,   8,   9,  10,  11,  12,\n",
       "        13,  14,  15,  16,  17,  18,  19,  20,  21,  22,  23,  24,  25,\n",
       "        26,  27,  28,  29,  30,  31,  32,  33,  34,  35,  36,  37,  38,\n",
       "        39,  40,  41,  42,  43,  44,  45,  46,  47,  48,  49,  50,  51,\n",
       "        52,  53,  54,  55,  56,  57,  58,  59,  60,  61,  62,  63,  64,\n",
       "        65,  66,  67,  68,  69,  70,  71,  72,  73,  74,  75,  76,  77,\n",
       "        78,  79,  80,  81,  82,  83,  84,  85,  86,  87,  88,  89,  90,\n",
       "        91,  92,  93,  94,  95,  96,  97,  98,  99, 100, 101, 102, 103,\n",
       "       104, 105, 106, 107, 108, 109, 110, 111, 112, 113, 114, 115, 116,\n",
       "       117, 118, 119, 120, 121, 122, 123, 124, 125, 126, 127, 128, 129,\n",
       "       130, 131, 132, 133, 134, 135, 136, 137, 138, 139, 140, 141, 142,\n",
       "       143, 144, 145, 146, 147, 148, 149, 150, 151, 152, 153, 154, 155,\n",
       "       156, 157, 158, 159, 160, 161, 162, 163, 164, 165, 166, 167, 168,\n",
       "       169, 170, 171, 172, 173, 174, 175, 176, 177, 178, 179, 180, 181,\n",
       "       182, 183, 184, 185, 186, 187, 188, 189, 190, 191, 192, 193, 194,\n",
       "       195, 196, 197, 198, 199, 200, 201, 202, 203, 204, 205, 206, 207,\n",
       "       208, 209, 210, 211, 212, 213, 214, 215, 216, 217, 218, 219, 220,\n",
       "       221, 222, 223, 224, 225, 226, 227, 228, 229, 230, 231, 232, 233,\n",
       "       234, 235, 236, 237, 238, 239, 240, 241, 242, 243, 244, 245, 246,\n",
       "       247, 248, 249, 250, 251, 252, 253, 254, 255], dtype=uint8)"
      ]
     },
     "execution_count": 110,
     "metadata": {},
     "output_type": "execute_result"
    }
   ],
   "source": [
    "import numpy as np\n",
    "np.unique(X_train)"
   ]
  },
  {
   "cell_type": "markdown",
   "metadata": {},
   "source": [
    "The pixels, as may be seen above, fall between 0 and 255. Processing pixels with more values and a higher variance becomes more difficult when images are fed via a model (as pixel values) for training. In order to bring the range between 0 and 1 and normalize the pixels, this is a recommended approach."
   ]
  },
  {
   "cell_type": "code",
   "execution_count": 142,
   "metadata": {},
   "outputs": [
    {
     "data": {
      "image/png": "[encoded data removed]",
      "text/plain": [
       "<Figure size 432x288 with 1 Axes>"
      ]
     },
     "metadata": {
      "needs_background": "light"
     },
     "output_type": "display_data"
    }
   ],
   "source": [
    "#Normalizing both train and test data so that the model works equally for both.\n",
    "X_train=X_train/255.0\n",
    "X_test=X_test/255.0\n",
    "\n",
    "#visualizing one of the image after normalizing to see if it worked proeprly or not\n",
    "sample_image = X_train[11]\n",
    "plt.imshow(sample_image, cmap='binary')\n",
    "plt.axis('off')\n",
    "plt.show()"
   ]
  },
  {
   "cell_type": "markdown",
   "metadata": {},
   "source": [
    "Arranging the data into a feature matrix and target array is another step in getting it ready for the model. The target array is already configured, but the train and test data need to be converted from three dimensions to two."
   ]
  },
  {
   "cell_type": "code",
   "execution_count": 143,
   "metadata": {},
   "outputs": [
    {
     "data": {
      "text/plain": [
       "((60000, 784), (10000, 784))"
      ]
     },
     "execution_count": 143,
     "metadata": {},
     "output_type": "execute_result"
    }
   ],
   "source": [
    "X_train=X_train.reshape(60000,28*28)\n",
    "X_test=X_test.reshape(10000,28*28)\n",
    "X_train.shape,X_test.shape"
   ]
  },
  {
   "cell_type": "markdown",
   "metadata": {},
   "source": [
    "Running Logistic Regression initially using the \"liblinear\" solver and the \"ovr\" multi-class. This strategy's interpretability is one of its benefits. Since only one classifier is used to represent each class, it is possible to learn more about the class by looking at its related classifier."
   ]
  },
  {
   "cell_type": "code",
   "execution_count": 113,
   "metadata": {},
   "outputs": [
    {
     "data": {
      "text/plain": [
       "LogisticRegression(multi_class='ovr', solver='liblinear')"
      ]
     },
     "execution_count": 113,
     "metadata": {},
     "output_type": "execute_result"
    }
   ],
   "source": [
    "#logistic with multiclass classification\n",
    "from sklearn.linear_model import LogisticRegression\n",
    "logregressor = LogisticRegression(solver=\"liblinear\", multi_class=\"ovr\")\n",
    "logregressor.fit(X_train, y_train)"
   ]
  },
  {
   "cell_type": "code",
   "execution_count": 114,
   "metadata": {},
   "outputs": [
    {
     "name": "stdout",
     "output_type": "stream",
     "text": [
      "Out of sample accuracy is  84.11\n",
      "In-sample accuracy is  87.325\n"
     ]
    }
   ],
   "source": [
    "from sklearn.metrics import accuracy_score\n",
    "#out of sample accuracy\n",
    "y_logreg_hat=logregressor.predict(X_test)\n",
    "print(\"Out of sample accuracy is \",accuracy_score(y_test,y_logreg_hat, normalize = True) * 100 )\n",
    "\n",
    "#In-sample accuracy\n",
    "y_train_logreg_hat=logregressor.predict(X_train)\n",
    "print(\"In-sample accuracy is \",accuracy_score(y_train,y_train_logreg_hat, normalize = True) * 100 )\n"
   ]
  },
  {
   "cell_type": "markdown",
   "metadata": {},
   "source": [
    "As we can see from the example above, the model is rather overfitting, thus we can use grid search to send the C (penalty) parameter to the logistic regression model. C is included as a penalty to lower overfitting."
   ]
  },
  {
   "cell_type": "code",
   "execution_count": null,
   "metadata": {},
   "outputs": [],
   "source": [
    "from sklearn.model_selection import GridSearchCV\n",
    "from sklearn.linear_model import LogisticRegression\n",
    "\n",
    "# making skeletal model\n",
    "logistic_regression = LogisticRegression(solver=\"liblinear\", multi_class=\"ovr\",n_jobs = -1)\n",
    "\n",
    "# Set of parameters we want to try for out Model\n",
    "parameters = { 'C' : [1.1,1.25,1.5]}\n",
    "\n",
    "#Running the Model with above chosen parameter\n",
    "grid_search = GridSearchCV(estimator = logistic_regression, param_grid = parameters , scoring = 'accuracy', cv = 5, n_jobs = -1 , verbose = 2)\n",
    "grid_scores = grid_search.fit(X_train, y_train)"
   ]
  },
  {
   "cell_type": "markdown",
   "metadata": {},
   "source": [
    "Investigating the optimum logical regression inputs."
   ]
  },
  {
   "cell_type": "code",
   "execution_count": 116,
   "metadata": {},
   "outputs": [
    {
     "name": "stdout",
     "output_type": "stream",
     "text": [
      "0.8526333333333334\n",
      "{'C': 1.1}\n"
     ]
    }
   ],
   "source": [
    "print( grid_search.best_score_)\n",
    "print(grid_search.best_params_)"
   ]
  },
  {
   "cell_type": "code",
   "execution_count": 118,
   "metadata": {},
   "outputs": [
    {
     "data": {
      "text/plain": [
       "LogisticRegression(C=1.1, multi_class='ovr', solver='liblinear')"
      ]
     },
     "execution_count": 118,
     "metadata": {},
     "output_type": "execute_result"
    }
   ],
   "source": [
    "# Making the Final Classification model.\n",
    "logistic_regression = LogisticRegression(solver=\"liblinear\", multi_class=\"ovr\", C = 1.1)\n",
    "logistic_regression.fit(X_train,y_train)\n"
   ]
  },
  {
   "cell_type": "code",
   "execution_count": 119,
   "metadata": {},
   "outputs": [],
   "source": [
    "y_hat=logistic_regression.predict(X_test)\n",
    "y_train_hat=logistic_regression.predict(X_train)"
   ]
  },
  {
   "cell_type": "code",
   "execution_count": 120,
   "metadata": {},
   "outputs": [
    {
     "name": "stdout",
     "output_type": "stream",
     "text": [
      "84.09\n",
      "87.33666666666666\n"
     ]
    }
   ],
   "source": [
    "from sklearn.metrics import accuracy_score\n",
    "print(accuracy_score(y_test,y_hat, normalize = True) * 100 )\n",
    "print(accuracy_score(y_train,y_train_hat, normalize = True) * 100 )\n"
   ]
  },
  {
   "cell_type": "code",
   "execution_count": 41,
   "metadata": {},
   "outputs": [
    {
     "name": "stdout",
     "output_type": "stream",
     "text": [
      "              precision    recall  f1-score   support\n",
      "\n",
      "           0       0.80      0.80      0.80      1000\n",
      "           1       0.98      0.96      0.97      1000\n",
      "           2       0.74      0.77      0.76      1000\n",
      "           3       0.83      0.88      0.85      1000\n",
      "           4       0.76      0.78      0.77      1000\n",
      "           5       0.95      0.93      0.94      1000\n",
      "           6       0.68      0.60      0.63      1000\n",
      "           7       0.91      0.94      0.92      1000\n",
      "           8       0.95      0.96      0.96      1000\n",
      "           9       0.95      0.94      0.95      1000\n",
      "\n",
      "    accuracy                           0.85     10000\n",
      "   macro avg       0.85      0.86      0.85     10000\n",
      "weighted avg       0.85      0.85      0.85     10000\n",
      "\n"
     ]
    }
   ],
   "source": [
    "from sklearn.metrics import classification_report, confusion_matrix\n",
    "print(classification_report(y_test,y_test_hat))"
   ]
  },
  {
   "cell_type": "markdown",
   "metadata": {},
   "source": [
    "Model 2- Random Forest "
   ]
  },
  {
   "cell_type": "markdown",
   "metadata": {},
   "source": [
    "Without any hyperparameters, I tried using random forest, but the model was overfitting (There was a technical issue and because of that I am not able to show that the model overfitted the data)\n",
    "I discovered that supplying hyperparameters like \"max depth\" would be helpful in resolving the overfitting issue.\n",
    "I used GridSearchCV to get the optimal depth, and then I used the best random forest parameters."
   ]
  },
  {
   "cell_type": "code",
   "execution_count": 31,
   "metadata": {},
   "outputs": [],
   "source": [
    "from sklearn.ensemble import RandomForestClassifier\n",
    "random_forest_model = RandomForestClassifier(n_jobs=-1)\n"
   ]
  },
  {
   "cell_type": "markdown",
   "metadata": {},
   "source": [
    "GridSearchCV for Random Forest"
   ]
  },
  {
   "cell_type": "code",
   "execution_count": 33,
   "metadata": {},
   "outputs": [
    {
     "name": "stdout",
     "output_type": "stream",
     "text": [
      "Fitting 2 folds for each of 30 candidates, totalling 60 fits\n"
     ]
    }
   ],
   "source": [
    "from sklearn.model_selection import GridSearchCV\n",
    "\n",
    "# Set of parameters we want to try for out Model\n",
    "parameters = { 'n_estimators' : [30,40,50,60,70,80],'max_depth':[6,7,8,9,10]}\n",
    "\n",
    "#Running the Model with above chosen parameter\n",
    "grid_search = GridSearchCV(estimator = random_forest_model, param_grid = parameters , scoring = 'accuracy', cv = 2, n_jobs = -1 , verbose = 2)\n",
    "grid_scores = grid_search.fit(X_train , y_train)"
   ]
  },
  {
   "cell_type": "code",
   "execution_count": 35,
   "metadata": {},
   "outputs": [
    {
     "name": "stdout",
     "output_type": "stream",
     "text": [
      "0.8525833333333334\n",
      "{'max_depth': 10, 'n_estimators': 70}\n"
     ]
    }
   ],
   "source": [
    "print( grid_search.best_score_)\n",
    "print(grid_search.best_params_)"
   ]
  },
  {
   "cell_type": "markdown",
   "metadata": {},
   "source": [
    "for fitting a random forest model, using the best hyperparameter."
   ]
  },
  {
   "cell_type": "code",
   "execution_count": 37,
   "metadata": {},
   "outputs": [
    {
     "data": {
      "text/plain": [
       "RandomForestClassifier(max_depth=10, n_estimators=70, n_jobs=-1)"
      ]
     },
     "execution_count": 37,
     "metadata": {},
     "output_type": "execute_result"
    }
   ],
   "source": [
    "best_RF_model=RandomForestClassifier(n_estimators=70,n_jobs=-1,max_depth=10)\n",
    "best_RF_model.fit(X_train,y_train)"
   ]
  },
  {
   "cell_type": "code",
   "execution_count": 39,
   "metadata": {},
   "outputs": [
    {
     "name": "stdout",
     "output_type": "stream",
     "text": [
      "84.36\n",
      "88.125\n"
     ]
    }
   ],
   "source": [
    "from sklearn.metrics import accuracy_score\n",
    "#out of sample accuracy\n",
    "y_pred = best_RF_model.predict(X_test)\n",
    "print(accuracy_score(y_test, y_pred)*100)\n",
    "#checking in-sample accuracy as well\n",
    "y_train_pred = best_RF_model.predict(X_train)\n",
    "print(accuracy_score(y_train, y_train_pred)*100)"
   ]
  },
  {
   "cell_type": "code",
   "execution_count": 40,
   "metadata": {},
   "outputs": [
    {
     "name": "stdout",
     "output_type": "stream",
     "text": [
      "              precision    recall  f1-score   support\n",
      "\n",
      "           0       0.79      0.82      0.81      1000\n",
      "           1       0.99      0.94      0.96      1000\n",
      "           2       0.71      0.73      0.72      1000\n",
      "           3       0.82      0.90      0.85      1000\n",
      "           4       0.68      0.80      0.74      1000\n",
      "           5       0.98      0.93      0.95      1000\n",
      "           6       0.69      0.49      0.58      1000\n",
      "           7       0.90      0.92      0.91      1000\n",
      "           8       0.95      0.96      0.96      1000\n",
      "           9       0.91      0.94      0.93      1000\n",
      "\n",
      "    accuracy                           0.84     10000\n",
      "   macro avg       0.84      0.84      0.84     10000\n",
      "weighted avg       0.84      0.84      0.84     10000\n",
      "\n"
     ]
    }
   ],
   "source": [
    "from sklearn.metrics import classification_report, confusion_matrix\n",
    "print(classification_report(y_test,y_pred))"
   ]
  },
  {
   "cell_type": "markdown",
   "metadata": {},
   "source": [
    "Model 3- MLPCLAssifier (Neural network)"
   ]
  },
  {
   "cell_type": "markdown",
   "metadata": {},
   "source": [
    "I utilized Gridsearch in this case to obtain the optimal number of hyperparameter."
   ]
  },
  {
   "cell_type": "code",
   "execution_count": null,
   "metadata": {},
   "outputs": [],
   "source": [
    "import warnings\n",
    "warnings.filterwarnings(\"ignore\")\n",
    "from sklearn.model_selection import GridSearchCV\n",
    "from sklearn.neural_network import MLPClassifier\n",
    "NNmodel = MLPClassifier(solver='lbfgs',random_state=0, \n",
    "                      hidden_layer_sizes=[30])\n",
    "# Set of parameters we want to try for out Model\n",
    "parameters = { 'hidden_layer_sizes' : [30,40,50,60,70,80]}\n",
    "\n",
    "#Running the Model with above chosen parameter\n",
    "grid_search = GridSearchCV(estimator = NNmodel, param_grid = parameters , scoring = 'accuracy', cv = 2, n_jobs = -1 , verbose = 2)\n",
    "grid_scores = grid_search.fit(X_train , y_train)"
   ]
  },
  {
   "cell_type": "code",
   "execution_count": 147,
   "metadata": {},
   "outputs": [
    {
     "name": "stdout",
     "output_type": "stream",
     "text": [
      "0.8712333333333333\n",
      "{'hidden_layer_sizes': 70}\n"
     ]
    }
   ],
   "source": [
    "print( grid_search.best_score_)\n",
    "print(grid_search.best_params_)"
   ]
  },
  {
   "cell_type": "markdown",
   "metadata": {},
   "source": [
    "As can be seen above, 70 is the ideal number of concealed layers (from the list provided)."
   ]
  },
  {
   "cell_type": "code",
   "execution_count": null,
   "metadata": {},
   "outputs": [],
   "source": [
    "from sklearn.neural_network import MLPClassifier\n",
    "\n",
    "NNmodel = MLPClassifier(solver='lbfgs',random_state=0, \n",
    "                      hidden_layer_sizes=[70])\n",
    "NNmodel.fit(X_train,y_train)\n",
    "\n",
    "# check the accuracy\n",
    "y_train_hat = NNmodel.predict(X_train)\n",
    "y_test_hat = NNmodel.predict(X_test)\n"
   ]
  },
  {
   "cell_type": "code",
   "execution_count": 149,
   "metadata": {},
   "outputs": [
    {
     "name": "stdout",
     "output_type": "stream",
     "text": [
      "In-sample Accuracy:  89.00833333333334\n",
      "Out-of-sample Accuracy:  86.75\n"
     ]
    }
   ],
   "source": [
    "from sklearn.metrics import accuracy_score\n",
    "\n",
    "in_sample_acc = accuracy_score(y_train,y_train_hat, normalize = True) * 100\n",
    "out_of_sample_acc = accuracy_score(y_test,y_test_hat, normalize = True) * 100\n",
    "print(\"In-sample Accuracy: \", in_sample_acc)\n",
    "print(\"Out-of-sample Accuracy: \", out_of_sample_acc)"
   ]
  },
  {
   "cell_type": "code",
   "execution_count": 15,
   "metadata": {},
   "outputs": [
    {
     "name": "stdout",
     "output_type": "stream",
     "text": [
      "              precision    recall  f1-score   support\n",
      "\n",
      "           0       0.80      0.80      0.80      1000\n",
      "           1       0.98      0.96      0.97      1000\n",
      "           2       0.74      0.77      0.76      1000\n",
      "           3       0.83      0.88      0.85      1000\n",
      "           4       0.76      0.78      0.77      1000\n",
      "           5       0.95      0.93      0.94      1000\n",
      "           6       0.68      0.60      0.63      1000\n",
      "           7       0.91      0.94      0.92      1000\n",
      "           8       0.95      0.96      0.96      1000\n",
      "           9       0.95      0.94      0.95      1000\n",
      "\n",
      "    accuracy                           0.85     10000\n",
      "   macro avg       0.85      0.86      0.85     10000\n",
      "weighted avg       0.85      0.85      0.85     10000\n",
      "\n"
     ]
    }
   ],
   "source": [
    "from sklearn.metrics import classification_report, confusion_matrix\n",
    "print(classification_report(y_test,y_test_hat))"
   ]
  },
  {
   "cell_type": "markdown",
   "metadata": {},
   "source": [
    "# Upon a comprehensive evaluation encompassing metrics including accuracy, as well as other critical indicators such as recall and precision, I have arrived at the determination that the most optimal choice is the third model, namely, the MLPClassifier."
   ]
  },
  {
   "cell_type": "markdown",
   "metadata": {},
   "source": [
    " <ul>   <li>Using the Best Model for Predicting Your Fashion Pieces</li>\n",
    "        <li>Capture images of five of your own fashion pieces. Ensure that the images are taken in a square format.</li>\n",
    "        <li>Resize these images to the correct size, which is 28x28 pixels.</li>\n",
    "        <li>Convert the images to grayscale to simplify the data.</li>\n",
    "        <li>Create a visualization where all these images are displayed side by side for a comprehensive view.</li>\n",
    "        <li>Utilize the best model selected in previous task to predict the label or category of each of your fashion piece images.</li>\n",
    "        <li>Assess the accuracy of the final results. How well did the model perform in categorizing your fashion pieces based on the images you provided?</li>\n",
    "    </ul>\n",
    "</ul>"
   ]
  },
  {
   "cell_type": "code",
   "execution_count": 187,
   "metadata": {},
   "outputs": [],
   "source": [
    "#Importing required libraries\n",
    "from PIL import Image\n",
    "import numpy as np\n",
    "import glob\n",
    "import numpy as np                          \n",
    "import matplotlib.image as mpimg\n",
    "import matplotlib.pyplot as plt\n",
    "%matplotlib inline"
   ]
  },
  {
   "cell_type": "markdown",
   "metadata": {},
   "source": [
    "Preparing and loading the custom photos for prediction"
   ]
  },
  {
   "cell_type": "code",
   "execution_count": 207,
   "metadata": {},
   "outputs": [],
   "source": [
    "#creating an empty list for resized images\n",
    "custom_image_list=[]             \n",
    "image_resized_list=[]             \n",
    "\n",
    "for filename in glob.glob(\"./Test_Data/*.png\"):         #running a for loop to get the images in the image list\n",
    "    testing=Image.open(filename)\n",
    "    custom_image_list.append(testing)"
   ]
  },
  {
   "cell_type": "code",
   "execution_count": 208,
   "metadata": {},
   "outputs": [],
   "source": [
    "for image in image_list:\n",
    "    image.show()\n",
    "    image=image.resize((28,28))          #reshaping the images in the list to appropriate size \n",
    "    image_resized_list.append(image)"
   ]
  },
  {
   "cell_type": "code",
   "execution_count": 209,
   "metadata": {},
   "outputs": [],
   "source": [
    "for (i, j) in enumerate (image_resized_list):\n",
    "    j.save('{}{}{}'.format('./Resize/image',i+1,'.png'))     #Saving the resized images in a new folder"
   ]
  },
  {
   "cell_type": "code",
   "execution_count": 211,
   "metadata": {},
   "outputs": [],
   "source": [
    "#reading the images into new variables \n",
    "image1=np.array(mpimg.imread(\"Resize/image1.png\"))\n",
    "image2=np.array(mpimg.imread(\"Resize/image2.png\"))\n",
    "image3=np.array(mpimg.imread(\"Resize/image3.png\"))\n",
    "image4=np.array(mpimg.imread(\"Resize/image4.png\"))\n",
    "image5=np.array(mpimg.imread(\"Resize/image5.png\"))\n"
   ]
  },
  {
   "cell_type": "code",
   "execution_count": 212,
   "metadata": {},
   "outputs": [],
   "source": [
    "#Gray scaling images \n",
    "import warnings\n",
    "warnings.filterwarnings(\"ignore\")\n",
    "from skimage import color\n",
    "from skimage import io\n",
    "\n",
    "gray_img_1 = color.rgb2gray(io.imread('Resize/image1.png'))\n",
    "gray_img_2 = color.rgb2gray(io.imread('Resize/image2.png'))      \n",
    "gray_img_3 = color.rgb2gray(io.imread('Resize/image3.png'))\n",
    "gray_img_4 = color.rgb2gray(io.imread('Resize/image4.png'))\n",
    "gray_img_5 = color.rgb2gray(io.imread('Resize/image5.png'))"
   ]
  },
  {
   "cell_type": "code",
   "execution_count": 213,
   "metadata": {},
   "outputs": [
    {
     "data": {
      "image/png": "[encoded data removed]",
      "text/plain": [
       "<Figure size 1080x1080 with 5 Axes>"
      ]
     },
     "metadata": {},
     "output_type": "display_data"
    }
   ],
   "source": [
    "#Before gray scaling\n",
    "fig, ax=plt.subplots(1,5,figsize=(15,15))\n",
    "for i, axi in enumerate(ax.flat):\n",
    "    axi.imshow(resized_list[i], cmap='binary')     \n",
    "    axi.set(xticks=[],yticks=[])"
   ]
  },
  {
   "cell_type": "code",
   "execution_count": 214,
   "metadata": {},
   "outputs": [
    {
     "data": {
      "image/png": "[encoded data removed]",
      "text/plain": [
       "<Figure size 144x216 with 1 Axes>"
      ]
     },
     "metadata": {},
     "output_type": "display_data"
    },
    {
     "data": {
      "image/png": "[encoded data removed]",
      "text/plain": [
       "<Figure size 144x216 with 1 Axes>"
      ]
     },
     "metadata": {},
     "output_type": "display_data"
    },
    {
     "data": {
      "image/png": "[encoded data removed]",
      "text/plain": [
       "<Figure size 144x216 with 1 Axes>"
      ]
     },
     "metadata": {},
     "output_type": "display_data"
    },
    {
     "data": {
      "image/png": "[encoded data removed]",
      "text/plain": [
       "<Figure size 144x216 with 1 Axes>"
      ]
     },
     "metadata": {},
     "output_type": "display_data"
    },
    {
     "data": {
      "image/png": "[encoded data removed]",
      "text/plain": [
       "<Figure size 144x216 with 1 Axes>"
      ]
     },
     "metadata": {},
     "output_type": "display_data"
    }
   ],
   "source": [
    "#after gray scaling\n",
    "\n",
    "fig, ax= plt.subplots(figsize=(2,3))\n",
    "ax.imshow(gray_img_1, cmap='binary')\n",
    "ax.set(xticks=[], yticks=[])\n",
    "plt.show()\n",
    "\n",
    "fig, ax= plt.subplots(figsize=(2,3))\n",
    "ax.imshow(gray_img_2, cmap='binary')\n",
    "ax.set(xticks=[], yticks=[])\n",
    "plt.show()\n",
    "\n",
    "fig, ax= plt.subplots(figsize=(2,3))\n",
    "ax.imshow(gray_img_3, cmap='binary')\n",
    "ax.set(xticks=[], yticks=[])\n",
    "plt.show()\n",
    "\n",
    "fig, ax= plt.subplots(figsize=(2,3))\n",
    "ax.imshow(gray_img_4, cmap='binary')\n",
    "ax.set(xticks=[], yticks=[])\n",
    "plt.show()\n",
    "\n",
    "fig, ax= plt.subplots(figsize=(2,3))\n",
    "ax.imshow(gray_img_5, cmap='binary')\n",
    "ax.set(xticks=[], yticks=[])\n",
    "plt.show()"
   ]
  },
  {
   "cell_type": "code",
   "execution_count": 215,
   "metadata": {},
   "outputs": [],
   "source": [
    "#appending binary images in a list and visualize\n",
    "\n",
    "preprocessed_list_image=[]                                \n",
    "preprocessed_list_image.append(gray_img_1)\n",
    "preprocessed_list_image.append(gray_img_2)\n",
    "preprocessed_list_image.append(gray_img_3)\n",
    "preprocessed_list_image.append(gray_img_4)\n",
    "preprocessed_list_image.append(gray_img_5)"
   ]
  },
  {
   "cell_type": "code",
   "execution_count": 216,
   "metadata": {},
   "outputs": [],
   "source": [
    "#Prediction for custom images\n",
    "new_prediction_array=np.array(preprocessed_list_image)"
   ]
  },
  {
   "cell_type": "code",
   "execution_count": 217,
   "metadata": {},
   "outputs": [
    {
     "name": "stdout",
     "output_type": "stream",
     "text": [
      "(28, 28)\n",
      "(5, 28, 28)\n"
     ]
    }
   ],
   "source": [
    "print(new_prediction_array[0].shape)             #shape of an element in an array\n",
    "\n",
    "new_prediction_array = new_prediction_array.astype('float32')      #reshaping the array- similar to data\n",
    "new_prediction_array /= 255.0\n",
    "print(new_prediction_array.shape)"
   ]
  },
  {
   "cell_type": "markdown",
   "metadata": {},
   "source": [
    "converting the array's form from 3D to 2D"
   ]
  },
  {
   "cell_type": "code",
   "execution_count": 219,
   "metadata": {},
   "outputs": [],
   "source": [
    "new_prediction_array=new_prediction_array.reshape(5,28*28)"
   ]
  },
  {
   "cell_type": "code",
   "execution_count": 220,
   "metadata": {},
   "outputs": [],
   "source": [
    "y_new_data_hat = NNmodel.predict(newarray)\n"
   ]
  },
  {
   "cell_type": "code",
   "execution_count": 221,
   "metadata": {},
   "outputs": [
    {
     "data": {
      "text/plain": [
       "array([5, 5, 5, 5, 5], dtype=uint8)"
      ]
     },
     "execution_count": 221,
     "metadata": {},
     "output_type": "execute_result"
    }
   ],
   "source": [
    "y_new_data_hat\n"
   ]
  },
  {
   "cell_type": "markdown",
   "metadata": {},
   "source": [
    "### As evident from the analysis, the model presently faces challenges in delivering precise forecasts for the majority of the photographs. To enhance its predictive capabilities using the original dataset images, further refinement and augmentation of the image data will be necessitated. This iterative process aims to improve the model's overall performance and ensure more accurate outcomes in image forecasting.\n",
    "\n",
    "\n",
    "\n"
   ]
  },
  {
   "cell_type": "code",
   "execution_count": 222,
   "metadata": {},
   "outputs": [
    {
     "data": {
      "image/png": "[encoded data removed]",
      "text/plain": [
       "<Figure size 432x288 with 1 Axes>"
      ]
     },
     "metadata": {
      "needs_background": "light"
     },
     "output_type": "display_data"
    }
   ],
   "source": [
    "from PIL import Image\n",
    " \n",
    "filename = './Test_Data/Bag.png'\n",
    " \n",
    "image = Image.open(filename)\n",
    "p = plt.imshow(np.asarray(image), cmap=plt.cm.gray,);\n",
    "p = plt.title('Shape: ' + str(np.asarray(image).shape))"
   ]
  },
  {
   "cell_type": "code",
   "execution_count": 223,
   "metadata": {},
   "outputs": [
    {
     "data": {
      "image/png": "[encoded data removed]",
      "text/plain": [
       "<Figure size 432x288 with 1 Axes>"
      ]
     },
     "metadata": {
      "needs_background": "light"
     },
     "output_type": "display_data"
    }
   ],
   "source": [
    "# convert to grayscale image - 'L' format means each pixel is \n",
    "# represented by a single value from 0 to 255\n",
    "image_bw = image.convert('L')\n",
    "p = plt.imshow(np.asarray(image_bw), cmap=plt.cm.gray,);\n",
    "p = plt.title('Shape: ' + str(np.asarray(image_bw).shape))\n",
    "# resize image \n",
    "image_bw_resized = image_bw.resize((28,28), Image.ANTIALIAS)\n",
    "p = plt.imshow(np.asarray(image_bw_resized), cmap=plt.cm.gray,);\n",
    "p = plt.title('Shape: ' + str(np.asarray(image_bw_resized).shape))"
   ]
  },
  {
   "cell_type": "code",
   "execution_count": 224,
   "metadata": {},
   "outputs": [
    {
     "data": {
      "image/png": "[encoded data removed]",
      "text/plain": [
       "<Figure size 432x288 with 1 Axes>"
      ]
     },
     "metadata": {
      "needs_background": "light"
     },
     "output_type": "display_data"
    }
   ],
   "source": [
    "import PIL.ImageOps    \n",
    "\n",
    "image_bw_resized_inverted = PIL.ImageOps.invert(image_bw_resized)\n",
    "p = plt.imshow(np.asarray(image_bw_resized_inverted), cmap=plt.cm.gray,);\n",
    "p = plt.title('Shape: ' + str(np.asarray(image_bw_resized_inverted).shape))\n",
    "\n",
    "# adjust contrast and scale\n",
    "pixel_filter = 20 # value from 0 to 100 - may need to adjust this manually\n",
    "min_pixel = np.percentile(image_bw_resized_inverted, pixel_filter)\n",
    "image_bw_resized_inverted_scaled = np.clip(image_bw_resized_inverted-min_pixel, 0, 255)\n",
    "max_pixel = np.max(image_bw_resized_inverted)\n",
    "image_bw_resized_inverted_scaled = np.asarray(image_bw_resized_inverted_scaled)/max_pixel\n",
    "p = plt.imshow(np.asarray(image_bw_resized_inverted_scaled), cmap=plt.cm.gray,);\n",
    "p = plt.title('Shape: ' + str(np.asarray(image_bw_resized_inverted_scaled).shape))\n",
    "\n",
    "# finally, reshape to (1, 784) - 1 sample, 784 features\n",
    "test_sample = np.array(image_bw_resized_inverted_scaled).reshape(1,784)\n",
    "p = plt.imshow(np.reshape(test_sample, (28,28)), cmap=plt.cm.gray,);\n",
    "p = plt.title('Shape: ' + str(test_sample.shape))\n",
    "p = plt.imshow(np.reshape(test_sample, (28,28)), cmap=plt.cm.gray,);\n",
    "p = plt.title('Shape: ' + str(test_sample.shape))"
   ]
  },
  {
   "cell_type": "code",
   "execution_count": 225,
   "metadata": {},
   "outputs": [
    {
     "data": {
      "image/png": "[encoded data removed]",
      "text/plain": [
       "<Figure size 432x288 with 1 Axes>"
      ]
     },
     "metadata": {
      "needs_background": "light"
     },
     "output_type": "display_data"
    }
   ],
   "source": [
    "import seaborn as sns\n",
    "test_probs = NNmodel.predict_proba(test_sample)\n",
    "\n",
    "sns.barplot(np.arange(0,10), test_probs.squeeze());\n",
    "plt.ylabel(\"Probability\");\n",
    "plt.xlabel(\"Class\");"
   ]
  },
  {
   "cell_type": "markdown",
   "metadata": {},
   "source": [
    "\n",
    "   "
   ]
  }
 ],
 "metadata": {
  "kernelspec": {
   "display_name": "Python 3 (ipykernel)",
   "language": "python",
   "name": "python3"
  },
  "language_info": {
   "codemirror_mode": {
    "name": "ipython",
    "version": 3
   },
   "file_extension": ".py",
   "mimetype": "text/x-python",
   "name": "python",
   "nbconvert_exporter": "python",
   "pygments_lexer": "ipython3",
   "version": "3.9.12"
  }
 },
 "nbformat": 4,
 "nbformat_minor": 4
}
